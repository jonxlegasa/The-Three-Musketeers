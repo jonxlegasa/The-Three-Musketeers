{
 "cells": [
  {
   "cell_type": "markdown",
   "id": "c15411ae",
   "metadata": {},
   "source": [
    "\n",
    "# Music Festival Organizer - Python Practice Problem\n",
    "\n",
    "## Introduction\n",
    "This practice problem involves managing a music festival's lineup of artists, their genres, and the schedule of their performances. You will use various Python concepts such as dictionaries, lists, functions, for loops, and while loops.\n"
   ]
  },
  {
   "cell_type": "markdown",
   "id": "7f5b2252",
   "metadata": {},
   "source": [
    "\n",
    "## Basic Task\n",
    "Your task is to organize and manage the artist lineup and their performance schedule for the music festival.\n"
   ]
  },
  {
   "cell_type": "markdown",
   "id": "9b084168",
   "metadata": {},
   "source": [
    "\n",
    "### Step 1: Artists and Genres Information\n",
    "Create a dictionary that includes the artists, their genres, and if applicable, the names of the specific members of the band.\n"
   ]
  },
  {
   "cell_type": "code",
   "execution_count": null,
   "id": "193b1dc6",
   "metadata": {},
   "outputs": [],
   "source": [
    "\n",
    "# Write your code here for Step 1\n"
   ]
  },
  {
   "cell_type": "markdown",
   "id": "ed67e492",
   "metadata": {},
   "source": [
    "\n",
    "### Step 2: List of Performance Times\n",
    "Create a list of times when artists will perform.\n"
   ]
  },
  {
   "cell_type": "code",
   "execution_count": null,
   "id": "fbb99ff6",
   "metadata": {},
   "outputs": [],
   "source": [
    "\n",
    "# Write your code here for Step 2\n"
   ]
  },
  {
   "cell_type": "markdown",
   "id": "d3dfcc0e",
   "metadata": {},
   "source": [
    "\n",
    "### Step 3: Assign Artists to Performance Times\n",
    "Write a function that assigns each artist a performance time. Ensure no two artists are assigned the same time.\n"
   ]
  },
  {
   "cell_type": "code",
   "execution_count": null,
   "id": "a17b05c0",
   "metadata": {},
   "outputs": [],
   "source": [
    "\n",
    "# Write your code here for Step 3\n"
   ]
  },
  {
   "cell_type": "markdown",
   "id": "7546426c",
   "metadata": {},
   "source": [
    "\n",
    "### Step 4: Display the Schedule\n",
    "Use a for loop to print out the schedule in a readable format.\n"
   ]
  },
  {
   "cell_type": "code",
   "execution_count": null,
   "id": "1f1177ed",
   "metadata": {},
   "outputs": [],
   "source": [
    "\n",
    "# Write your code here for Step 4\n"
   ]
  },
  {
   "cell_type": "markdown",
   "id": "7b799165",
   "metadata": {},
   "source": [
    "\n",
    "### Step 5: Interactive User Input\n",
    "Implement a while loop to allow users to input an artist's name and get their performance time. Continue until the user decides to quit.\n"
   ]
  },
  {
   "cell_type": "code",
   "execution_count": null,
   "id": "a97170a4",
   "metadata": {},
   "outputs": [],
   "source": [
    "\n",
    "# Write your code here for Step 5\n"
   ]
  },
  {
   "cell_type": "markdown",
   "id": "ddef2bc0",
   "metadata": {},
   "source": [
    "\n",
    "## Task\n",
    "Complete the steps outlined above to successfully manage the music festival. Remember to test your code to ensure it works as expected.\n"
   ]
  }
 ],
 "metadata": {},
 "nbformat": 4,
 "nbformat_minor": 5
}
