{
 "cells": [
  {
   "cell_type": "markdown",
   "id": "7533c27c",
   "metadata": {},
   "source": [
    "\n",
    "# Music Festival Organizer - Python Practice Problem\n",
    "\n",
    "## Introduction\n",
    "This practice problem involves managing a music festival's lineup of artists, their genres, and the schedule of their performances. You will use various Python concepts such as dictionaries, lists, functions, for loops, and while loops.\n"
   ]
  },
  {
   "cell_type": "markdown",
   "id": "fa2ab29a",
   "metadata": {},
   "source": [
    "\n",
    "## Basic Task\n",
    "Your task is to organize and manage the artist lineup and their performance schedule for the music festival. The artists and their genres, as well as the list of performance times, are already provided. You will need to create a program to assign performance times to artists and manage user interactions.\n"
   ]
  },
  {
   "cell_type": "markdown",
   "id": "420726cb",
   "metadata": {},
   "source": [
    "\n",
    "### Provided Data\n",
    "The following data is provided for you to use in your program.\n"
   ]
  },
  {
   "cell_type": "code",
   "execution_count": null,
   "id": "59d86fb6",
   "metadata": {},
   "outputs": [],
   "source": [
    "\n",
    "# Dictionary mapping artists to their genres and members\n",
    "artists_info = {\n",
    "    \"Tame Impala\": {\n",
    "        \"Genre\": \"Psychedelic Rock\",\n",
    "        \"Members\": [\"Kevin Parker\", \"Jay Watson\", \"Dominic Simper\"]\n",
    "    },\n",
    "    \"Drake\": {\n",
    "        \"Genre\": \"Hip Hop\",\n",
    "        \"Members\": \"Solo Artist\"\n",
    "    },\n",
    "    \"The Weeknd\": {\n",
    "        \"Genre\": \"R&B\",\n",
    "        \"Members\": \"Solo Artist\"\n",
    "    }\n",
    "}\n"
   ]
  },
  {
   "cell_type": "code",
   "execution_count": null,
   "id": "ee13d268",
   "metadata": {},
   "outputs": [],
   "source": [
    "\n",
    "# List of performance times\n",
    "performance_times = [\"1 PM\", \"2 PM\", \"3 PM\"]\n"
   ]
  },
  {
   "cell_type": "markdown",
   "id": "064420ea",
   "metadata": {},
   "source": [
    "\n",
    "### Step 3: Assign Artists to Performance Times\n",
    "Write a function that assigns each artist a performance time. Ensure no two artists are assigned the same time.\n"
   ]
  },
  {
   "cell_type": "code",
   "execution_count": null,
   "id": "e4cade86",
   "metadata": {},
   "outputs": [],
   "source": [
    "\n",
    "# Write your code here for Step 3\n"
   ]
  },
  {
   "cell_type": "markdown",
   "id": "6e61c226",
   "metadata": {},
   "source": [
    "\n",
    "### Step 4: Display the Schedule\n",
    "Use a for loop to print out the schedule in a readable format.\n"
   ]
  },
  {
   "cell_type": "code",
   "execution_count": null,
   "id": "d3f05ad9",
   "metadata": {},
   "outputs": [],
   "source": [
    "\n",
    "# Write your code here for Step 4\n"
   ]
  },
  {
   "cell_type": "markdown",
   "id": "10991b1c",
   "metadata": {},
   "source": [
    "\n",
    "### Step 5: Interactive User Input\n",
    "Implement a while loop to allow users to input an artist's name and get their performance time. Continue until the user decides to quit.\n"
   ]
  },
  {
   "cell_type": "code",
   "execution_count": null,
   "id": "0e559387",
   "metadata": {},
   "outputs": [],
   "source": [
    "\n",
    "# Write your code here for Step 5\n"
   ]
  },
  {
   "cell_type": "markdown",
   "id": "cfb3dd38",
   "metadata": {},
   "source": [
    "\n",
    "## Task\n",
    "Complete the steps outlined above to successfully create a program for managing the music festival. Test your code to ensure it works as expected.\n"
   ]
  },
  {
   "cell_type": "code",
   "execution_count": null,
   "metadata": {},
   "outputs": [],
   "source": [
    "# Final code\n"
   ]
  }
 ],
 "metadata": {
  "language_info": {
   "name": "python"
  }
 },
 "nbformat": 4,
 "nbformat_minor": 5
}
